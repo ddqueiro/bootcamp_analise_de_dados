{
  "nbformat": 4,
  "nbformat_minor": 0,
  "metadata": {
    "colab": {
      "provenance": []
    },
    "kernelspec": {
      "name": "python3",
      "display_name": "Python 3"
    },
    "language_info": {
      "name": "python"
    }
  },
  "cells": [
    {
      "cell_type": "markdown",
      "source": [
        "\n",
        "```\n",
        "# - Projeto CLoud\n",
        "\n",
        "Requisitos do projeto\n",
        "Em seu projeto no Google Cloud Platform (GCP) em IAM e Administrador, conceder acesso ao e-mail: douglas.ribeiro@soulcode.com;\n",
        "- Criar um bucket no Google Cloud Storage;\n",
        "- Criar uma pasta chamada dados-brutos dentre desse bucket;\n",
        "- Criar uma pasta dados-tratados;\n",
        "- Baixar um arquivo específico do google planilhas no formato em formato csv na máquina local (link para o arquivo):\n",
        "https://docs.google.com/spreadsheets/d/1oTKRjvTyEcScUvWqi-Arcp8AqXNeKK2iU5D4rW25cdo/edit?usp=sharing\n",
        "- Subir o arquivo da sua máquina para a pasta dados brutos e conceder acesso público a este arquivo;\n",
        "- Utilizar o link de acesso público desse arquivo no google colab e fazer a leitura do arquivo com a biblioteca pandas,\n",
        "transformar cada coluna do arquivo em uma lista Python;\n",
        "- Fazer os tratamentos utilizando os métodos e funções de listas aprendidos em aula;\n",
        "- Devolver as listas tratadas ao Data Frame Pandas;\n",
        "- Salvar o Data Frame e enviá-lo automaticamente para a pasta dados-tratados do Bucket na GCP.\n",
        "\n",
        "Obs.: Registos que não tiverem todas as informações deverão ser excluídos e isso deverá ser feito utilizando métodos e funções de listas no colab.\n",
        "\n",
        "'''\n"
      ],
      "metadata": {
        "id": "I81VEvMVy7-s"
      }
    },
    {
      "cell_type": "code",
      "execution_count": null,
      "metadata": {
        "id": "GpwGx664h5dc"
      },
      "outputs": [],
      "source": [
        "import pandas as pd"
      ]
    },
    {
      "cell_type": "code",
      "source": [
        "tabela = pd.read_csv('https://storage.googleapis.com/cloud_projeto/dados-brutos/dados_inconsistentes%20-%20dados_inconsistentes.csv')\n",
        "display (type(tabela))"
      ],
      "metadata": {
        "id": "hSe4huFpiIMU"
      },
      "execution_count": null,
      "outputs": []
    },
    {
      "cell_type": "code",
      "source": [
        "# Convertendo o DataFrame em uma lista de dicionários\n",
        "func = tabela.to_dict(orient='records')\n",
        "\n",
        "# Criando listas vazias para os dados\n",
        "lista_nomes = []\n",
        "lista_idade = []\n",
        "lista_salario = []\n",
        "lista_cargo = []\n",
        "lista_departamento = []\n",
        "\n",
        "# Passando os dados de cada dicionário para listas\n",
        "for item in func:\n",
        "    lista_nomes.append(item['nome'])\n",
        "    lista_idade.append(item['idade'])\n",
        "    lista_salario.append(item['salário'])\n",
        "    lista_cargo.append(item['cargo'])\n",
        "    lista_departamento.append(item['departamento'])\n",
        "\n",
        "# Convertendo float para str\n",
        "for i in range(len(lista_idade)):\n",
        "    lista_idade[i] = str(lista_idade[i])\n",
        "\n",
        "for i in range(len(lista_salario)):\n",
        "    lista_salario[i] = str(lista_salario[i])\n",
        "\n",
        "for i in range(len(lista_departamento)):\n",
        "    lista_departamento[i] = str(lista_departamento[i])\n",
        "\n",
        "for i in range(len(lista_cargo)):\n",
        "    lista_cargo[i] = str(lista_cargo[i])\n",
        "\n",
        "# Criando lista de dicionários\n",
        "lista_dicionarios = []\n",
        "for i in range(len(lista_nomes)):\n",
        "    # Verificando se não há valores em branco ou NaN\n",
        "    if (lista_nomes[i] != '' and lista_nomes[i] != 'nan' and\n",
        "        lista_idade[i] != '' and lista_idade[i] != 'nan' and\n",
        "        lista_salario[i] != '' and lista_salario[i] != 'nan' and\n",
        "        lista_cargo[i] != '' and lista_cargo[i] != 'nan' and\n",
        "        lista_departamento[i] != '' and lista_departamento[i] != 'nan'):\n",
        "\n",
        "\n",
        "        # Adicionando ao dicionário\n",
        "\n",
        "      lista_dicionarios.append({\n",
        "        'nome': lista_nomes[i],\n",
        "        'idade': int(float(lista_idade[i])),\n",
        "        'salario': float(lista_salario[i]),\n",
        "        'cargo': lista_cargo[i],\n",
        "        'departamento': lista_departamento[i]\n",
        "        })\n",
        "\n",
        "\n",
        "# tranformei em dataframe novamente\n",
        "df_tratado = pd.DataFrame(lista_dicionarios)\n",
        "display(df_tratado) #Pra ver o data frame\n",
        "\n"
      ],
      "metadata": {
        "id": "k08TmifXlVLl"
      },
      "execution_count": null,
      "outputs": []
    },
    {
      "cell_type": "code",
      "source": [
        "from google.colab import auth\n",
        "auth.authenticate_user()\n",
        "project_id = 'fifth-brook-440013-a0'#cria variavel que recebe o nome do projeto\n",
        "!gcloud config set project {project_id} #aponta para o projeto guardado na variavel\n",
        "from google.cloud import storage #cria variavel cliente\n",
        "client = storage.Client() #cria variavel com nome da bucket\n",
        "bucket_name = 'cloud_projeto' #aponta para a variavel bucket\n",
        "bucket = client.bucket(bucket_name)  #Acessa um bucket específico no Google Cloud Storage usando o cliente definido.\n",
        "df_tratado.to_csv('dadostratados.csv',index=False) #salva um DataFrame como um arquivo CSV chamado dadostratados.csv, excluindo o índice.\n",
        "from google.cloud import storage #importa a biblioteca storage do Google Cloud para interagir com o Cloud Storage.\n",
        "destination_blob_name = 'dados-tratados/tratados.csv' #criando caminho do destino (nomedapasta/nomedoarquivo)\n",
        "source_file_name = 'dadostratados.csv' #caminho arquivo fonte\n",
        "blob = bucket.blob(destination_blob_name) #mando para o destino\n",
        "blob.upload_from_filename(source_file_name) #faz upload"
      ],
      "metadata": {
        "colab": {
          "base_uri": "https://localhost:8080/"
        },
        "id": "4KCaQPvI07Kw",
        "outputId": "7160c044-eddc-467b-870c-0af2075df048"
      },
      "execution_count": null,
      "outputs": [
        {
          "output_type": "stream",
          "name": "stdout",
          "text": [
            "Updated property [core/project].\n"
          ]
        }
      ]
    }
  ]
}